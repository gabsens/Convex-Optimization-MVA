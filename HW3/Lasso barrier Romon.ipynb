{
 "cells": [
  {
   "cell_type": "code",
   "execution_count": 8,
   "metadata": {},
   "outputs": [],
   "source": [
    "import numpy as np\n",
    "import scipy as sc\n",
    "import matplotlib.pyplot as plt\n",
    "from scipy.linalg import inv\n",
    "import sklearn"
   ]
  },
  {
   "cell_type": "code",
   "execution_count": 9,
   "metadata": {},
   "outputs": [],
   "source": [
    "def grad(Q,p,A,b,t,v):\n",
    "    return t*((Q.T+Q).dot(v)+p) + np.sum((1/(b-A.dot(v)).T)*A.T, axis=1).reshape(-1,1)\n",
    "\n",
    "def hessian(Q,p,A,b,t,v):\n",
    "    temp = b-A.dot(v)\n",
    "    return 2*t*Q + sum([1/(temp[i])**2 * A[i,].reshape(-1,1).dot(A[i,].reshape(1,-1)) for i in range(A.shape[0])])\n",
    "\n",
    "def f(Q,p,A,b,t,v):\n",
    "    if not (b-A.dot(v)>0).all():\n",
    "        raise Exception('Fail. Not feasible')\n",
    "    return t*(v.T@Q@v + p.T.dot(v)) - np.sum(np.log(b-A.dot(v)))\n",
    "\n",
    "def line_search(Q,p,A,b,t,v,delta,alpha,beta):\n",
    "    rate = 1\n",
    "    while not(((b-A.dot(v+rate*delta))>0).all()) or (f(Q,p,A,b,t,v+rate*delta) > f(Q,p,A,b,t,v) + alpha*rate*grad(Q,p,A,b,t,v).T.dot(delta)):\n",
    "        rate = beta*rate\n",
    "    return rate\n",
    "\n",
    "def centering_step(Q,p,A,b,t,v0,eps):\n",
    "    alpha = 0.01  #to be determined\n",
    "    beta = 0.5   #to be determined\n",
    "    \n",
    "    res = [v0]\n",
    "    iter_newt = 0\n",
    "    while 1:\n",
    "        \n",
    "        delta_newt = -inv(hessian(Q,p,A,b,t,v0)).dot(grad(Q,p,A,b,t,v0))\n",
    "        lambda_sq = -grad(Q,p,A,b,t,v0).T.dot(delta_newt)\n",
    "        if lambda_sq/2 <= eps:\n",
    "            break\n",
    "        else:\n",
    "            iter_newt += 1\n",
    "            rate = line_search(Q,p,A,b,t,v0,delta_newt,alpha,beta)\n",
    "            v0 = v0 + rate*delta_newt\n",
    "            res.append(v0)\n",
    "    return (res[-1], iter_newt)\n"
   ]
  },
  {
   "cell_type": "code",
   "execution_count": 10,
   "metadata": {},
   "outputs": [],
   "source": [
    "def barr_method(Q,p,A,b,v0,eps,mu):\n",
    "    t = 1  #to be determined\n",
    "    m = A.shape[0]\n",
    "    res = [v0]\n",
    "    iters_newt = [0]\n",
    "    while 1:\n",
    "        v0, iter_newt = centering_step(Q,p,A,b,t,v0,0.00001)\n",
    "        res.append(v0)\n",
    "        iters_newt.append(iters_newt[-1]+iter_newt)\n",
    "        if m/t < eps:\n",
    "            break\n",
    "        else:\n",
    "            t = mu*t\n",
    "    return (res, iters_newt)\n",
    "        \n"
   ]
  },
  {
   "cell_type": "code",
   "execution_count": 11,
   "metadata": {},
   "outputs": [],
   "source": [
    "from sklearn.datasets import make_regression\n",
    "n =10\n",
    "d = 50\n",
    "\n",
    "np.random.seed(42)\n",
    "X,y,coef = make_regression(n_samples=n, n_features=d, n_informative=10, coef=True, noise = 1)\n",
    "y = y.reshape((-1,1))\n",
    "\n",
    "lambd = 10\n",
    "\n",
    "Q = 0.5*np.eye(n)\n",
    "p = -y\n",
    "A = np.vstack((X.T,-X.T))\n",
    "b = lambd*np.ones((2*d,1))\n",
    "v0 = np.zeros((n,1))\n",
    "eps = 0.001"
   ]
  },
  {
   "cell_type": "code",
   "execution_count": 12,
   "metadata": {},
   "outputs": [
    {
     "data": {
      "image/png": "[encoded data removed]",
      "text/plain": [
       "<Figure size 504x288 with 1 Axes>"
      ]
     },
     "metadata": {},
     "output_type": "display_data"
    }
   ],
   "source": [
    "plt.figure(figsize=(7,4)) \n",
    "for mu in [2,15,50,100,300]:\n",
    "    v_traj, iters_newt = barr_method(Q,p,A,b,v0,0.001,mu)\n",
    "    v_last = v_traj[-1]\n",
    "    values = [(v0.T@Q@v0 + p.T.dot(v0))[0,0] - (v_last.T@Q@v_last + p.T.dot(v_last))[0,0] for v0 in v_traj]\n",
    "    plt.step(iters_newt, values, label='mu = '+str(mu))\n",
    "plt.legend(loc = 'upper right')\n",
    "plt.semilogy()\n",
    "plt.xlabel('Number of Newton iterations')\n",
    "plt.ylabel('$f(v_t)-f^*$')\n",
    "plt.savefig(\"plot.eps\")\n",
    "plt.show()"
   ]
  },
  {
   "cell_type": "code",
   "execution_count": null,
   "metadata": {},
   "outputs": [],
   "source": []
  }
 ],
 "metadata": {
  "kernelspec": {
   "display_name": "Python 3",
   "language": "python",
   "name": "python3"
  },
  "language_info": {
   "codemirror_mode": {
    "name": "ipython",
    "version": 3
   },
   "file_extension": ".py",
   "mimetype": "text/x-python",
   "name": "python",
   "nbconvert_exporter": "python",
   "pygments_lexer": "ipython3",
   "version": "3.6.2"
  }
 },
 "nbformat": 4,
 "nbformat_minor": 2
}
